{
 "cells": [
  {
   "cell_type": "code",
   "execution_count": 4,
   "id": "ae435bab",
   "metadata": {},
   "outputs": [],
   "source": [
    "#import postgres library\n",
    "import psycopg2"
   ]
  },
  {
   "cell_type": "code",
   "execution_count": 5,
   "id": "686ff8bc",
   "metadata": {},
   "outputs": [],
   "source": [
    "#establishing the connection\n",
    "db_connect = psycopg2.connect(database='task4',user='gowtham1',password='postgres',host='127.0.0.1',port='5432')"
   ]
  },
  {
   "cell_type": "code",
   "execution_count": 6,
   "id": "8883e0f2",
   "metadata": {},
   "outputs": [],
   "source": [
    "#setting auto commit\n",
    "db_connect.autocommit=True"
   ]
  },
  {
   "cell_type": "code",
   "execution_count": 7,
   "id": "fcf95afe",
   "metadata": {},
   "outputs": [],
   "source": [
    "#creating a cursor object using the cursor() medhod \n",
    "cursor=db_connect.cursor()"
   ]
  },
  {
   "cell_type": "code",
   "execution_count": 8,
   "id": "4047192e",
   "metadata": {},
   "outputs": [],
   "source": [
    "#retrieving data\n",
    "cursor.execute('''select * from \"tbl_Employee\"''')"
   ]
  },
  {
   "cell_type": "code",
   "execution_count": 9,
   "id": "83458a9a",
   "metadata": {},
   "outputs": [],
   "source": [
    "#fetching all the rows from the table and commit the changes and finally close the database connetion.\n",
    "result_data=cursor.fetchall()\n",
    "db_connect.commit()\n",
    "db_connect.close()"
   ]
  },
  {
   "cell_type": "code",
   "execution_count": 10,
   "id": "f4956823",
   "metadata": {
    "scrolled": true
   },
   "outputs": [
    {
     "data": {
      "text/plain": [
       "[(198, 'Donald', 'OConnell', 'DOCONNEL', '6,505,079,833'),\n",
       " (199, 'Douglas', 'Grant', 'DGRANT', '6,505,079,844'),\n",
       " (200, 'Jennifer', 'Whalen', 'JWHALEN', '5,151,234,444'),\n",
       " (201, 'Michael', 'Hartstein', 'MHARTSTE', '5,151,235,555'),\n",
       " (202, 'Pat', 'Fay', 'PFAY', '6,031,236,666'),\n",
       " (203, 'Susan', 'Mavris', 'SMAVRIS', '5,151,237,777'),\n",
       " (204, 'Hermann', 'Baer', 'HBAER', '5,151,238,888'),\n",
       " (205, 'Shelley', 'Higgins', 'SHIGGINS', '5,151,238,080'),\n",
       " (206, 'William', 'Gietz', 'WGIETZ', '5,151,238,181'),\n",
       " (100, 'Steven', 'King', 'SKING', '5,151,234,567'),\n",
       " (101, 'Neena', 'Kochhar', 'NKOCHHAR', '5,151,234,568'),\n",
       " (102, 'Lex', 'De Haan', 'LDEHAAN', '5,151,234,569'),\n",
       " (103, 'Alexander', 'Hunold', 'AHUNOLD', '5,904,234,567'),\n",
       " (104, 'Bruce', 'Ernst', 'BERNST', '5,904,234,568'),\n",
       " (105, 'David', 'Austin', 'DAUSTIN', '5,904,234,569'),\n",
       " (106, 'Valli', 'Pataballa', 'VPATABAL', '5,904,234,560'),\n",
       " (107, 'Diana', 'Lorentz', 'DLORENTZ', '5,904,235,567'),\n",
       " (108, 'Nancy', 'Greenberg', 'NGREENBE', '5,151,244,569'),\n",
       " (109, 'Daniel', 'Faviet', 'DFAVIET', '5,151,244,169'),\n",
       " (110, 'John', 'Chen', 'JCHEN', '5,151,244,269'),\n",
       " (111, 'Ismael', 'Sciarra', 'ISCIARRA', '5,151,244,369'),\n",
       " (112, 'Jose Manuel', 'Urman', 'JMURMAN', '5,151,244,469'),\n",
       " (113, 'Luis', 'Popp', 'LPOPP', '5,151,244,567'),\n",
       " (114, 'Den', 'Raphaely', 'DRAPHEAL', '5,151,274,561'),\n",
       " (115, 'Alexander', 'Khoo', 'AKHOO', '5,151,274,562'),\n",
       " (116, 'Shelli', 'Baida', 'SBAIDA', '5,151,274,563'),\n",
       " (117, 'Sigal', 'Tobias', 'STOBIAS', '5,151,274,564'),\n",
       " (118, 'Guy', 'Himuro', 'GHIMURO', '5,151,274,565'),\n",
       " (119, 'Karen', 'Colmenares', 'KCOLMENA', '5,151,274,566'),\n",
       " (120, 'Matthew', 'Weiss', 'MWEISS', '6,501,231,234'),\n",
       " (121, 'Adam', 'Fripp', 'AFRIPP', '6,501,232,234'),\n",
       " (122, 'Payam', 'Kaufling', 'PKAUFLIN', '6,501,233,234'),\n",
       " (123, 'Shanta', 'Vollman', 'SVOLLMAN', '6,501,234,234'),\n",
       " (124, 'Kevin', 'Mourgos', 'KMOURGOS', '6,501,235,234'),\n",
       " (125, 'Julia', 'Nayer', 'JNAYER', '6,501,241,214'),\n",
       " (126, 'Irene', 'Mikkilineni', 'IMIKKILI', '6,501,241,224'),\n",
       " (127, 'James', 'Landry', 'JLANDRY', '6,501,241,334'),\n",
       " (128, 'Steven', 'Markle', 'SMARKLE', '6,501,241,434'),\n",
       " (129, 'Laura', 'Bissot', 'LBISSOT', '6,501,245,234'),\n",
       " (130, 'Mozhe', 'Atkinson', 'MATKINSO', '6,501,246,234'),\n",
       " (131, 'James', 'Marlow', 'JAMRLOW', '6,501,247,234'),\n",
       " (132, 'TJ', 'Olson', 'TJOLSON', '6,501,248,234'),\n",
       " (133, 'Jason', 'Mallin', 'JMALLIN', '6,501,271,934'),\n",
       " (134, 'Michael', 'Rogers', 'MROGERS', '6,501,271,834'),\n",
       " (135, 'Ki', 'Gee', 'KGEE', '6,501,271,734'),\n",
       " (136, 'Hazel', 'Philtanker', 'HPHILTAN', '6,501,271,634'),\n",
       " (137, 'Renske', 'Ladwig', 'RLADWIG', '6,501,211,234'),\n",
       " (138, 'Stephen', 'Stiles', 'SSTILES', '6,501,212,034'),\n",
       " (139, 'John', 'Seo', 'JSEO', '6,501,212,019'),\n",
       " (140, 'Joshua', 'Patel', 'JPATEL', '6,501,211,834'),\n",
       " (141, 'Shelli', 'Baida', 'SBAIDA', None),\n",
       " (142, 'Sigal', 'Tobias', 'STOBIAS', None),\n",
       " (143, 'Guy', 'Himuro', 'GHIMURO', None),\n",
       " (144, 'Karen', 'Colmenares', 'KCOLMENA', None),\n",
       " (145, 'Matthew', 'Weiss', 'MWEISS', None),\n",
       " (146, 'Adam', 'Fripp', 'AFRIPP', None),\n",
       " (147, 'Payam', 'Kaufling', 'PKAUFLIN', None),\n",
       " (148, 'Shanta', 'Vollman', 'SVOLLMAN', None),\n",
       " (149, 'Kevin', 'Mourgos', 'KMOURGOS', None),\n",
       " (150, 'Julia', 'Nayer', 'JNAYER', None),\n",
       " (151, 'Irene', 'Mikkilineni', 'IMIKKILI', None),\n",
       " (152, 'James', 'Landry', 'JLANDRY', None),\n",
       " (153, 'Steven', 'Markle', 'SMARKLE', None),\n",
       " (154, 'Laura', 'Bissot', 'LBISSOT', None),\n",
       " (155, 'Mozhe', 'Atkinson', 'MATKINSO', None),\n",
       " (156, 'James', 'Marlow', 'JAMRLOW', None),\n",
       " (157, 'TJ', 'Olson', 'TJOLSON', None),\n",
       " (158, 'Jason', 'Mallin', 'JMALLIN', None),\n",
       " (159, 'Jennifer', 'Whalen', 'JWHALEN', None),\n",
       " (160, 'Michael', 'Hartstein', 'MHARTSTE', None),\n",
       " (161, 'Pat', 'Fay', 'PFAY', None),\n",
       " (162, 'Susan', 'Mavris', 'SMAVRIS', None),\n",
       " (163, 'Hermann', 'Baer', 'HBAER', None),\n",
       " (164, 'Shelley', 'Higgins', 'SHIGGINS', None),\n",
       " (165, 'William', 'Gietz', 'WGIETZ', None),\n",
       " (166, 'Steven', 'King', 'SKING', None),\n",
       " (167, 'Neena', 'Kochhar', 'NKOCHHAR', None),\n",
       " (168, 'Lex', 'De Haan', 'LDEHAAN', None),\n",
       " (169, 'Alexander', 'Hunold', 'AHUNOLD', None),\n",
       " (170, 'Bruce', 'Ernst', 'BERNST', None),\n",
       " (171, 'David', 'Austin', 'DAUSTIN', None),\n",
       " (172, 'Valli', 'Pataballa', 'VPATABAL', None),\n",
       " (173, 'Steven', 'Markle', 'SMARKLE', None),\n",
       " (174, 'Laura', 'Bissot', 'LBISSOT', None),\n",
       " (175, 'Mozhe', 'Atkinson', 'MATKINSO', None),\n",
       " (176, 'James', 'Marlow', 'JAMRLOW', None),\n",
       " (177, 'TJ', 'Olson', 'TJOLSON', None),\n",
       " (178, 'Jason', 'Mallin', 'JMALLIN', None),\n",
       " (179, 'Michael', 'Rogers', 'MROGERS', None),\n",
       " (180, 'Ki', 'Gee', 'KGEE', None),\n",
       " (181, 'Hazel', 'Philtanker', 'HPHILTAN', None),\n",
       " (182, 'Renske', 'Ladwig', 'RLADWIG', None),\n",
       " (183, 'Stephen', 'Stiles', 'SSTILES', None)]"
      ]
     },
     "execution_count": 10,
     "metadata": {},
     "output_type": "execute_result"
    }
   ],
   "source": [
    "result_data"
   ]
  },
  {
   "cell_type": "code",
   "execution_count": null,
   "id": "8594e749",
   "metadata": {},
   "outputs": [],
   "source": []
  }
 ],
 "metadata": {
  "kernelspec": {
   "display_name": "Python 3 (ipykernel)",
   "language": "python",
   "name": "python3"
  },
  "language_info": {
   "codemirror_mode": {
    "name": "ipython",
    "version": 3
   },
   "file_extension": ".py",
   "mimetype": "text/x-python",
   "name": "python",
   "nbconvert_exporter": "python",
   "pygments_lexer": "ipython3",
   "version": "3.9.12"
  }
 },
 "nbformat": 4,
 "nbformat_minor": 5
}
